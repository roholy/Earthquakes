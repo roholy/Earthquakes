import numpy as np
import pandas as pd
import matplotlib.pyplot
import matplotlib.pyplot as plt
%matplotlib inline

Quake=pd.read_csv('https://raw.githubusercontent.com/roholy/Earthquakes/main/database.csv', encoding='latin1')
print('hello world')
Quake3 = Quake.plot.scatter(x='Time', y='Magnitude')
plt.title('scatter')
plt.xlabel('Time')
plt.ylabel('Magnitude')
plt.rcParams['figure.figsize']={10,4}
plt.show